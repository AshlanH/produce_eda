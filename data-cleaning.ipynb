{
 "cells": [
  {
   "cell_type": "code",
   "execution_count": 143,
   "id": "colonial-connectivity",
   "metadata": {},
   "outputs": [],
   "source": [
    "import pandas as pd\n",
    "import matplotlib.pyplot as plt\n",
    "import numpy as np\n",
    "import seaborn as sns\n",
    "pd.set_option('display.max_rows', 500)\n",
    "sns.set_style('whitegrid')"
   ]
  },
  {
   "cell_type": "code",
   "execution_count": 144,
   "id": "enabling-debut",
   "metadata": {},
   "outputs": [],
   "source": [
    "df = pd.read_csv('malaysia_produce.csv')\n",
    "df_LCU, df_SLC, df_USD, df_PPI = [df[df.Element == 'Producer Price (LCU/tonne)'], \n",
    "df[df.Element == 'Producer Price (SLC/tonne)'],\n",
    "df[df.Element == 'Producer Price (USD/tonne)'], \n",
    "df[df.Element == 'Producer Price Index (2014-2016 = 100)']]\n",
    "\n",
    "all_df = [df_PPI, df_LCU, df_SLC, df_USD]"
   ]
  },
  {
   "cell_type": "code",
   "execution_count": 145,
   "id": "neutral-blues",
   "metadata": {},
   "outputs": [],
   "source": [
    "# Check valid_year_directionary total count\n",
    "def check_year_order(l):\n",
    "    return all([l[i] + 1 == l[i + 1] for i in range(len(l) - 1)])\n",
    "\n",
    "def valid_item_list(input_dictionary):\n",
    "    count_true, count_false = 0, 0\n",
    "    valid_items = []\n",
    "    for key, values in input_dictionary.items():\n",
    "        if values: \n",
    "            count_true += 1\n",
    "            valid_items.append(key)\n",
    "        else: count_false += 1\n",
    "    return valid_items"
   ]
  },
  {
   "cell_type": "code",
   "execution_count": 146,
   "id": "original-retro",
   "metadata": {},
   "outputs": [],
   "source": [
    "valid_items_all = []\n",
    "for dfs in all_df:\n",
    "    valid_year_dictionary = {}\n",
    "\n",
    "    for each in dfs.Item.unique():\n",
    "        valid_year_dictionary[each] = check_year_order(dfs[dfs.Item == each].Year.unique())\n",
    "    #print(valid_year_dictionary)\n",
    "    valid_items = valid_item_list(valid_year_dictionary)\n",
    "    valid_items_all.append(valid_items)"
   ]
  },
  {
   "cell_type": "code",
   "execution_count": 147,
   "id": "golden-cincinnati",
   "metadata": {},
   "outputs": [],
   "source": [
    "df_LCU = df_LCU[df_LCU.Item.isin(valid_items_all[1])]\n",
    "df_SLC = df_SLC[df_SLC.Item.isin(valid_items_all[2])]\n",
    "df_USD = df_USD[df_USD.Item.isin(valid_items_all[3])]"
   ]
  },
  {
   "cell_type": "code",
   "execution_count": 150,
   "id": "tight-howard",
   "metadata": {},
   "outputs": [
    {
     "name": "stdout",
     "output_type": "stream",
     "text": [
      "True\n",
      "True\n",
      "True\n",
      "True\n",
      "True\n",
      "True\n",
      "True\n",
      "True\n",
      "True\n",
      "True\n",
      "True\n",
      "True\n",
      "True\n",
      "True\n",
      "True\n",
      "True\n",
      "True\n",
      "True\n",
      "True\n",
      "True\n",
      "True\n",
      "True\n",
      "True\n",
      "True\n",
      "True\n",
      "True\n",
      "True\n",
      "True\n",
      "True\n",
      "True\n",
      "True\n",
      "True\n",
      "True\n",
      "True\n",
      "True\n",
      "True\n",
      "True\n",
      "True\n",
      "True\n",
      "True\n"
     ]
    }
   ],
   "source": [
    "for each_item in df_USD.Item.unique():\n",
    "    print(check_year_order(df_USD[df_USD.Item == each_item].Year.unique()))"
   ]
  },
  {
   "cell_type": "code",
   "execution_count": 58,
   "id": "alpine-assets",
   "metadata": {},
   "outputs": [],
   "source": [
    "# Initialize directory of Items with Appropriate date range\n",
    "valid_year_dictionary = {}\n",
    "\n",
    "for each in df_LCU.Item.unique():\n",
    "    valid_year_dictionary[each] = check_year_order(df_LCU[df_LCU.Item == each].Year.unique())\n",
    "valid_items = valid_item_list(valid_year_dictionary)"
   ]
  },
  {
   "cell_type": "markdown",
   "id": "southeast-eleven",
   "metadata": {},
   "source": [
    "### Filtered DF_LCU dataframe with accurate entries with ascending years"
   ]
  },
  {
   "cell_type": "code",
   "execution_count": 151,
   "id": "roman-india",
   "metadata": {},
   "outputs": [],
   "source": [
    "output_df = pd.concat([df_PPI, df_LCU, df_SLC, df_USD])"
   ]
  },
  {
   "cell_type": "code",
   "execution_count": 152,
   "id": "preliminary-annual",
   "metadata": {},
   "outputs": [
    {
     "data": {
      "text/plain": [
       "Producer Price (LCU/tonne)                3835\n",
       "Producer Price Index (2014-2016 = 100)    2434\n",
       "Producer Price (SLC/tonne)                 826\n",
       "Producer Price (USD/tonne)                 826\n",
       "Name: Element, dtype: int64"
      ]
     },
     "execution_count": 152,
     "metadata": {},
     "output_type": "execute_result"
    }
   ],
   "source": [
    "output_df.Element.value_counts()"
   ]
  },
  {
   "cell_type": "code",
   "execution_count": 153,
   "id": "mathematical-uruguay",
   "metadata": {},
   "outputs": [],
   "source": [
    "output_df.to_csv('df_filtered.csv') #Save as csv"
   ]
  }
 ],
 "metadata": {
  "kernelspec": {
   "display_name": "Python 3",
   "language": "python",
   "name": "python3"
  },
  "language_info": {
   "codemirror_mode": {
    "name": "ipython",
    "version": 3
   },
   "file_extension": ".py",
   "mimetype": "text/x-python",
   "name": "python",
   "nbconvert_exporter": "python",
   "pygments_lexer": "ipython3",
   "version": "3.9.1"
  }
 },
 "nbformat": 4,
 "nbformat_minor": 5
}
